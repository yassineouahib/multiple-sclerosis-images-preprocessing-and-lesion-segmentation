{
  "nbformat": 4,
  "nbformat_minor": 0,
  "metadata": {
    "colab": {
      "provenance": []
    },
    "kernelspec": {
      "name": "python3",
      "display_name": "Python 3"
    },
    "language_info": {
      "name": "python"
    }
  },
  "cells": [
    {
      "cell_type": "code",
      "source": [
        "from google.colab import drive\n",
        "\n",
        "# Montez Google Drive\n",
        "drive.mount('/content/drive')\n"
      ],
      "metadata": {
        "colab": {
          "base_uri": "https://localhost:8080/",
          "height": 355
        },
        "id": "3DNCczi-xyyg",
        "outputId": "f9b553ab-fdaa-4b9c-b456-c66c65810509"
      },
      "execution_count": 2,
      "outputs": [
        {
          "output_type": "error",
          "ename": "MessageError",
          "evalue": "ignored",
          "traceback": [
            "\u001b[0;31m---------------------------------------------------------------------------\u001b[0m",
            "\u001b[0;31mMessageError\u001b[0m                              Traceback (most recent call last)",
            "\u001b[0;32m<ipython-input-2-7478431e6f75>\u001b[0m in \u001b[0;36m<cell line: 4>\u001b[0;34m()\u001b[0m\n\u001b[1;32m      2\u001b[0m \u001b[0;34m\u001b[0m\u001b[0m\n\u001b[1;32m      3\u001b[0m \u001b[0;31m# Montez Google Drive\u001b[0m\u001b[0;34m\u001b[0m\u001b[0;34m\u001b[0m\u001b[0m\n\u001b[0;32m----> 4\u001b[0;31m \u001b[0mdrive\u001b[0m\u001b[0;34m.\u001b[0m\u001b[0mmount\u001b[0m\u001b[0;34m(\u001b[0m\u001b[0;34m'/content/drive'\u001b[0m\u001b[0;34m)\u001b[0m\u001b[0;34m\u001b[0m\u001b[0;34m\u001b[0m\u001b[0m\n\u001b[0m",
            "\u001b[0;32m/usr/local/lib/python3.10/dist-packages/google/colab/drive.py\u001b[0m in \u001b[0;36mmount\u001b[0;34m(mountpoint, force_remount, timeout_ms, readonly)\u001b[0m\n\u001b[1;32m    101\u001b[0m \u001b[0;32mdef\u001b[0m \u001b[0mmount\u001b[0m\u001b[0;34m(\u001b[0m\u001b[0mmountpoint\u001b[0m\u001b[0;34m,\u001b[0m \u001b[0mforce_remount\u001b[0m\u001b[0;34m=\u001b[0m\u001b[0;32mFalse\u001b[0m\u001b[0;34m,\u001b[0m \u001b[0mtimeout_ms\u001b[0m\u001b[0;34m=\u001b[0m\u001b[0;36m120000\u001b[0m\u001b[0;34m,\u001b[0m \u001b[0mreadonly\u001b[0m\u001b[0;34m=\u001b[0m\u001b[0;32mFalse\u001b[0m\u001b[0;34m)\u001b[0m\u001b[0;34m:\u001b[0m\u001b[0;34m\u001b[0m\u001b[0;34m\u001b[0m\u001b[0m\n\u001b[1;32m    102\u001b[0m   \u001b[0;34m\"\"\"Mount your Google Drive at the specified mountpoint path.\"\"\"\u001b[0m\u001b[0;34m\u001b[0m\u001b[0;34m\u001b[0m\u001b[0m\n\u001b[0;32m--> 103\u001b[0;31m   return _mount(\n\u001b[0m\u001b[1;32m    104\u001b[0m       \u001b[0mmountpoint\u001b[0m\u001b[0;34m,\u001b[0m\u001b[0;34m\u001b[0m\u001b[0;34m\u001b[0m\u001b[0m\n\u001b[1;32m    105\u001b[0m       \u001b[0mforce_remount\u001b[0m\u001b[0;34m=\u001b[0m\u001b[0mforce_remount\u001b[0m\u001b[0;34m,\u001b[0m\u001b[0;34m\u001b[0m\u001b[0;34m\u001b[0m\u001b[0m\n",
            "\u001b[0;32m/usr/local/lib/python3.10/dist-packages/google/colab/drive.py\u001b[0m in \u001b[0;36m_mount\u001b[0;34m(mountpoint, force_remount, timeout_ms, ephemeral, readonly)\u001b[0m\n\u001b[1;32m    130\u001b[0m   )\n\u001b[1;32m    131\u001b[0m   \u001b[0;32mif\u001b[0m \u001b[0mephemeral\u001b[0m\u001b[0;34m:\u001b[0m\u001b[0;34m\u001b[0m\u001b[0;34m\u001b[0m\u001b[0m\n\u001b[0;32m--> 132\u001b[0;31m     _message.blocking_request(\n\u001b[0m\u001b[1;32m    133\u001b[0m         \u001b[0;34m'request_auth'\u001b[0m\u001b[0;34m,\u001b[0m \u001b[0mrequest\u001b[0m\u001b[0;34m=\u001b[0m\u001b[0;34m{\u001b[0m\u001b[0;34m'authType'\u001b[0m\u001b[0;34m:\u001b[0m \u001b[0;34m'dfs_ephemeral'\u001b[0m\u001b[0;34m}\u001b[0m\u001b[0;34m,\u001b[0m \u001b[0mtimeout_sec\u001b[0m\u001b[0;34m=\u001b[0m\u001b[0;32mNone\u001b[0m\u001b[0;34m\u001b[0m\u001b[0;34m\u001b[0m\u001b[0m\n\u001b[1;32m    134\u001b[0m     )\n",
            "\u001b[0;32m/usr/local/lib/python3.10/dist-packages/google/colab/_message.py\u001b[0m in \u001b[0;36mblocking_request\u001b[0;34m(request_type, request, timeout_sec, parent)\u001b[0m\n\u001b[1;32m    174\u001b[0m       \u001b[0mrequest_type\u001b[0m\u001b[0;34m,\u001b[0m \u001b[0mrequest\u001b[0m\u001b[0;34m,\u001b[0m \u001b[0mparent\u001b[0m\u001b[0;34m=\u001b[0m\u001b[0mparent\u001b[0m\u001b[0;34m,\u001b[0m \u001b[0mexpect_reply\u001b[0m\u001b[0;34m=\u001b[0m\u001b[0;32mTrue\u001b[0m\u001b[0;34m\u001b[0m\u001b[0;34m\u001b[0m\u001b[0m\n\u001b[1;32m    175\u001b[0m   )\n\u001b[0;32m--> 176\u001b[0;31m   \u001b[0;32mreturn\u001b[0m \u001b[0mread_reply_from_input\u001b[0m\u001b[0;34m(\u001b[0m\u001b[0mrequest_id\u001b[0m\u001b[0;34m,\u001b[0m \u001b[0mtimeout_sec\u001b[0m\u001b[0;34m)\u001b[0m\u001b[0;34m\u001b[0m\u001b[0;34m\u001b[0m\u001b[0m\n\u001b[0m",
            "\u001b[0;32m/usr/local/lib/python3.10/dist-packages/google/colab/_message.py\u001b[0m in \u001b[0;36mread_reply_from_input\u001b[0;34m(message_id, timeout_sec)\u001b[0m\n\u001b[1;32m    101\u001b[0m     ):\n\u001b[1;32m    102\u001b[0m       \u001b[0;32mif\u001b[0m \u001b[0;34m'error'\u001b[0m \u001b[0;32min\u001b[0m \u001b[0mreply\u001b[0m\u001b[0;34m:\u001b[0m\u001b[0;34m\u001b[0m\u001b[0;34m\u001b[0m\u001b[0m\n\u001b[0;32m--> 103\u001b[0;31m         \u001b[0;32mraise\u001b[0m \u001b[0mMessageError\u001b[0m\u001b[0;34m(\u001b[0m\u001b[0mreply\u001b[0m\u001b[0;34m[\u001b[0m\u001b[0;34m'error'\u001b[0m\u001b[0;34m]\u001b[0m\u001b[0;34m)\u001b[0m\u001b[0;34m\u001b[0m\u001b[0;34m\u001b[0m\u001b[0m\n\u001b[0m\u001b[1;32m    104\u001b[0m       \u001b[0;32mreturn\u001b[0m \u001b[0mreply\u001b[0m\u001b[0;34m.\u001b[0m\u001b[0mget\u001b[0m\u001b[0;34m(\u001b[0m\u001b[0;34m'data'\u001b[0m\u001b[0;34m,\u001b[0m \u001b[0;32mNone\u001b[0m\u001b[0;34m)\u001b[0m\u001b[0;34m\u001b[0m\u001b[0;34m\u001b[0m\u001b[0m\n\u001b[1;32m    105\u001b[0m \u001b[0;34m\u001b[0m\u001b[0m\n",
            "\u001b[0;31mMessageError\u001b[0m: Error: credential propagation was unsuccessful"
          ]
        }
      ]
    },
    {
      "cell_type": "code",
      "source": [
        "zip_path = '/content/drive/MyDrive/Patients.zip'\n"
      ],
      "metadata": {
        "id": "leHHUOOhx8NM"
      },
      "execution_count": null,
      "outputs": []
    },
    {
      "cell_type": "code",
      "source": [
        "import zipfile\n",
        "import os\n",
        "\n",
        "# Spécifiez le répertoire de destination pour extraire les fichiers\n",
        "extraction_path = \"/content/Patients\"\n",
        "\n",
        "# Extrait le fichier ZIP\n",
        "with zipfile.ZipFile(zip_path, 'r') as zip_ref:\n",
        "    zip_ref.extractall(extraction_path)\n",
        "\n",
        "# Affichez la liste des fichiers extraits\n",
        "extracted_files = os.listdir(extraction_path)\n",
        "print(\"Fichiers extraits :\", extracted_files)\n"
      ],
      "metadata": {
        "id": "Ywm0S5XGyJfJ"
      },
      "execution_count": null,
      "outputs": []
    },
    {
      "cell_type": "code",
      "source": [
        "import os\n",
        "import nibabel as nib\n",
        "import matplotlib.pyplot as plt\n",
        "\n",
        "# Spécifiez le chemin vers le répertoire contenant les dossiers des patients\n",
        "data_directory = \"/content/Patients/Patients\"\n",
        "\n",
        "# Liste tous les dossiers des patients\n",
        "patient_folders = [folder for folder in os.listdir(data_directory) if os.path.isdir(os.path.join(data_directory, folder))]\n",
        "\n",
        "# Parcourez chaque dossier de patient\n",
        "for patient_folder in patient_folders:\n",
        "    patient_path = os.path.join(data_directory, patient_folder)\n",
        "\n",
        "    # Liste des fichiers dans le dossier du patient\n",
        "    patient_files = os.listdir(patient_path)\n",
        "\n",
        "    # Sélectionnez le fichier d'image .nii (vous devrez peut-être adapter ceci en fonction de votre structure de dossier)\n",
        "    image_file = [file for file in patient_files if file.endswith('.nii')][0]\n",
        "    image_path = os.path.join(patient_path, image_file)\n",
        "\n",
        "    # Chargez l'image avec nibabel\n",
        "    image_data = nib.load(image_path).get_fdata()\n",
        "\n",
        "    # Affichez quelques informations sur l'image (vous pouvez ajuster ceci en fonction de vos besoins)\n",
        "    print(f\"Patient: {patient_folder}\")\n",
        "    print(f\"Shape de l'image: {image_data.shape}\")\n",
        "    print(f\"Valeurs min/max de l'image: {image_data.min()} / {image_data.max()}\")\n",
        "\n",
        "    # Affichez l'image (vous pouvez personnaliser cela selon vos besoins)\n",
        "    plt.imshow(image_data[:, :, image_data.shape[2] // 2], cmap='gray')\n",
        "    plt.title(\"Image\")\n",
        "    plt.show()"
      ],
      "metadata": {
        "id": "qXAokMqJ-Mo9"
      },
      "execution_count": null,
      "outputs": []
    },
    {
      "cell_type": "code",
      "source": [
        "import os\n",
        "import nibabel as nib\n",
        "import matplotlib.pyplot as plt\n",
        "import numpy as np\n",
        "\n",
        "# Chemin vers le répertoire contenant les fichiers .nii\n",
        "dataset_path = \"/content/Patients/Patients/Patient-1\"\n",
        "\n",
        "# Liste des fichiers dans le répertoire\n",
        "files_in_directory = os.listdir(dataset_path)\n",
        "\n",
        "# Filtrer les fichiers .nii\n",
        "nii_files = [file for file in files_in_directory if file.endswith('.nii')]\n",
        "\n",
        "# Afficher la liste des fichiers .nii\n",
        "print(\"Liste des fichiers .nii dans le dataset :\")\n",
        "print(nii_files)\n",
        "\n",
        "# Charger une image .nii de chaque type pour le patient 1 (par exemple)\n",
        "patient_id = '1'\n",
        "flair_image = nib.load(os.path.join(dataset_path, f'{patient_id}-Flair.nii'))\n",
        "t1_image = nib.load(os.path.join(dataset_path, f'{patient_id}-T1.nii'))\n",
        "t2_image = nib.load(os.path.join(dataset_path, f'{patient_id}-T2.nii'))\n",
        "lesion_seg_flair = nib.load(os.path.join(dataset_path, f'{patient_id}-LesionSeg-Flair.nii'))\n",
        "\n",
        "# Afficher la taille de chaque image\n",
        "print(\"\\nTaille des images :\")\n",
        "print(f\"Flair Image Shape: {flair_image.shape}\")\n",
        "print(f\"T1 Image Shape: {t1_image.shape}\")\n",
        "print(f\"T2 Image Shape: {t2_image.shape}\")\n",
        "print(f\"Lesion Segmentation (Flair) Shape: {lesion_seg_flair.shape}\")\n",
        "\n",
        "# Afficher une image de chaque type pour le patient 1\n",
        "def plot_slices(images, titles):\n",
        "    fig, axes = plt.subplots(1, len(images), figsize=(15, 5))\n",
        "    for i, (img, title) in enumerate(zip(images, titles)):\n",
        "        axes[i].imshow(np.rot90(img[:, :, img.shape[2] // 2]))\n",
        "        axes[i].set_title(title)\n",
        "        axes[i].axis(\"off\")\n",
        "\n",
        "    plt.show()\n",
        "\n",
        "plot_slices([flair_image.get_fdata(), t1_image.get_fdata(), t2_image.get_fdata(), lesion_seg_flair.get_fdata()],\n",
        "            ['Flair', 'T1', 'T2', 'Lesion Segmentation (Flair)'])\n"
      ],
      "metadata": {
        "id": "Fhn0gJ3X-qrp"
      },
      "execution_count": null,
      "outputs": []
    },
    {
      "cell_type": "code",
      "source": [
        "import os\n",
        "import nibabel as nib\n",
        "import matplotlib.pyplot as plt\n",
        "import numpy as np\n",
        "\n",
        "# Chemin vers le répertoire principal des patients\n",
        "patients_directory = '/content/Patients/Patients/'\n",
        "\n",
        "# Liste des types d'images dans le dataset\n",
        "image_types = ['Flair', 'T1', 'T2', 'LesionSeg-Flair', 'LesionSeg-T1', 'LesionSeg-T2']\n",
        "\n",
        "# Fonction pour afficher plusieurs images pour un patient et un type donnés\n",
        "def display_images(patient_id, image_type):\n",
        "    image_path = os.path.join(patients_directory, f\"Patient-{patient_id}\", f\"{patient_id}-{image_type}.nii\")\n",
        "    seg_path = os.path.join(patients_directory, f\"Patient-{patient_id}\", f\"{patient_id}-LesionSeg-{image_type}.nii\")\n",
        "\n",
        "    image = nib.load(image_path).get_fdata()\n",
        "    seg = nib.load(seg_path).get_fdata()\n",
        "\n",
        "    # Afficher quelques tranches centrales\n",
        "    slices_to_display = [image.shape[2] // 4, image.shape[2] // 2, 3 * image.shape[2] // 4]\n",
        "\n",
        "    fig, axes = plt.subplots(2, len(slices_to_display), figsize=(15, 5))\n",
        "\n",
        "    for i, slice_index in enumerate(slices_to_display):\n",
        "        axes[0, i].imshow(np.rot90(image[:, :, slice_index]), cmap=\"gray\")\n",
        "        axes[0, i].set_title(f\"Patient-{patient_id}-{image_type} Slice {slice_index}\")\n",
        "        axes[0, i].axis(\"off\")\n",
        "\n",
        "        axes[1, i].imshow(np.rot90(seg[:, :, slice_index]), cmap=\"viridis\")\n",
        "        axes[1, i].set_title(f\"Patient-{patient_id}-LesionSeg-{image_type} Slice {slice_index}\")\n",
        "        axes[1, i].axis(\"off\")\n",
        "\n",
        "    plt.show()\n",
        "\n",
        "# Afficher quelques images pour les premiers patients\n",
        "for patient_id in range(1, 6):\n",
        "    for image_type in ['Flair', 'T1', 'T2']:\n",
        "        display_images(patient_id, image_type)\n"
      ],
      "metadata": {
        "id": "neFMmZ4fJCwf"
      },
      "execution_count": null,
      "outputs": []
    },
    {
      "cell_type": "markdown",
      "source": [
        "Définition du répertoire des patients et des types d'images :"
      ],
      "metadata": {
        "id": "GUF7xfV1J-NK"
      }
    },
    {
      "cell_type": "code",
      "source": [
        "patients_directory = '/content/Patients/Patients/'\n",
        "image_types = ['Flair', 'T1', 'T2', 'LesionSeg-Flair', 'LesionSeg-T1', 'LesionSeg-T2']\n"
      ],
      "metadata": {
        "id": "laDz5fDzJ9fW"
      },
      "execution_count": null,
      "outputs": []
    },
    {
      "cell_type": "code",
      "source": [],
      "metadata": {
        "id": "sq8E1BoQNWCs"
      },
      "execution_count": null,
      "outputs": []
    },
    {
      "cell_type": "markdown",
      "source": [
        "Fonction de visualisation des images :"
      ],
      "metadata": {
        "id": "QJg82Uo2KHN_"
      }
    },
    {
      "cell_type": "code",
      "source": [
        "def display_images(patient_id, image_type):\n",
        "    # Construction des chemins d'accès aux fichiers d'images et de segmentation\n",
        "    image_path = os.path.join(patients_directory, f\"Patient-{patient_id}\", f\"{patient_id}-{image_type}.nii\")\n",
        "    seg_path = os.path.join(patients_directory, f\"Patient-{patient_id}\", f\"{patient_id}-LesionSeg-{image_type}.nii\")\n",
        "\n",
        "    # Chargement des images à partir des fichiers NIfTI\n",
        "    image = nib.load(image_path).get_fdata()\n",
        "    seg = nib.load(seg_path).get_fdata()\n",
        "\n",
        "    # Affichage de quelques tranches centrales des images originales et segmentées\n",
        "    slices_to_display = [image.shape[2] // 4, image.shape[2] // 2, 3 * image.shape[2] // 4]\n",
        "\n",
        "    fig, axes = plt.subplots(2, len(slices_to_display), figsize=(15, 5))\n",
        "\n",
        "    for i, slice_index in enumerate(slices_to_display):\n",
        "        axes[0, i].imshow(np.rot90(image[:, :, slice_index]), cmap=\"gray\")\n",
        "        axes[0, i].set_title(f\"Patient-{patient_id}-{image_type} Slice {slice_index}\")\n",
        "        axes[0, i].axis(\"off\")\n",
        "\n",
        "        axes[1, i].imshow(np.rot90(seg[:, :, slice_index]), cmap=\"viridis\")\n",
        "        axes[1, i].set_title(f\"Patient-{patient_id}-LesionSeg-{image_type} Slice {slice_index}\")\n",
        "        axes[1, i].axis(\"off\")\n",
        "\n",
        "    plt.show()\n"
      ],
      "metadata": {
        "id": "UK7olZtsKD81"
      },
      "execution_count": null,
      "outputs": []
    },
    {
      "cell_type": "markdown",
      "source": [
        "Affichage des images pour les premiers patients et types d'images :"
      ],
      "metadata": {
        "id": "JUvpTBGxKPN_"
      }
    },
    {
      "cell_type": "code",
      "source": [
        "for patient_id in range(1, 6):\n",
        "    for image_type in ['Flair', 'T1', 'T2']:\n",
        "        display_images(patient_id, image_type)\n"
      ],
      "metadata": {
        "id": "ig1lncSMKQAx"
      },
      "execution_count": null,
      "outputs": []
    },
    {
      "cell_type": "markdown",
      "source": [
        "Statistiques descriptives :"
      ],
      "metadata": {
        "id": "Z3ATdhNhKWwa"
      }
    },
    {
      "cell_type": "code",
      "source": [
        "for image_type in ['Flair', 'T1', 'T2']:\n",
        "    for patient_id in range(1, 61):\n",
        "        image_path = os.path.join(patients_directory, f\"Patient-{patient_id}\", f\"{patient_id}-{image_type}.nii\")\n",
        "        image_data = nib.load(image_path).get_fdata()\n",
        "\n",
        "        print(f\"Stats for Patient-{patient_id}-{image_type}:\")\n",
        "        print(f\"  Mean: {np.mean(image_data)}\")\n",
        "        print(f\"  Std Dev: {np.std(image_data)}\")\n",
        "        print(f\"  Median: {np.median(image_data)}\")\n",
        "        print(f\"  Min: {np.min(image_data)}\")\n",
        "        print(f\"  Max: {np.max(image_data)}\\n\")\n"
      ],
      "metadata": {
        "id": "9nWuLxMIKaxZ"
      },
      "execution_count": null,
      "outputs": []
    },
    {
      "cell_type": "markdown",
      "source": [
        "Corrélation entre les types d'images :"
      ],
      "metadata": {
        "id": "uef_9efTKouz"
      }
    },
    {
      "cell_type": "markdown",
      "source": [],
      "metadata": {
        "id": "fKPz1JABLnai"
      }
    },
    {
      "cell_type": "code",
      "source": [
        "for patient_id in range(1, 61):\n",
        "    flair_path = os.path.join(patients_directory, f\"Patient-{patient_id}\", f\"{patient_id}-Flair.nii\")\n",
        "    t1_path = os.path.join(patients_directory, f\"Patient-{patient_id}\", f\"{patient_id}-T1.nii\")\n",
        "    t2_path = os.path.join(patients_directory, f\"Patient-{patient_id}\", f\"{patient_id}-T2.nii\")\n",
        "\n",
        "    flair_data = nib.load(flair_path).get_fdata().flatten()\n",
        "    t1_data = nib.load(t1_path).get_fdata().flatten()\n",
        "    t2_data = nib.load(t2_path).get_fdata().flatten()\n",
        "\n",
        "    # Normaliser les données\n",
        "    flair_data = (flair_data - np.mean(flair_data)) / np.std(flair_data)\n",
        "    t1_data = (t1_data - np.mean(t1_data)) / np.std(t1_data)\n",
        "    t2_data = (t2_data - np.mean(t2_data)) / np.std(t2_data)\n",
        "\n",
        "    # Redimensionner les données à la même longueur\n",
        "    min_length = min(len(flair_data), len(t1_data), len(t2_data))\n",
        "    flair_data = flair_data[:min_length]\n",
        "    t1_data = t1_data[:min_length]\n",
        "    t2_data = t2_data[:min_length]\n",
        "\n",
        "    correlation_ft1 = np.corrcoef(flair_data, t1_data)[0, 1]\n",
        "    correlation_ft2 = np.corrcoef(flair_data, t2_data)[0, 1]\n",
        "    correlation_t1t2 = np.corrcoef(t1_data, t2_data)[0, 1]\n",
        "\n",
        "    print(f\"Correlation for Patient-{patient_id}:\")\n",
        "    print(f\"  Flair and T1: {correlation_ft1}\")\n",
        "    print(f\"  Flair and T2: {correlation_ft2}\")\n",
        "    print(f\"  T1 and T2: {correlation_t1t2}\\n\")\n"
      ],
      "metadata": {
        "id": "wMwp1f-uKju1"
      },
      "execution_count": null,
      "outputs": []
    },
    {
      "cell_type": "markdown",
      "source": [
        "**Techniques d’étirement de l’histogramme**"
      ],
      "metadata": {
        "id": "rY3b05obPL6F"
      }
    },
    {
      "cell_type": "markdown",
      "source": [
        "Ce code adapte la fonction pour traiter les images de 5 patients et affiche les images originales ainsi que les images après l'étirement de l'histogramme. Vous pouvez ajuster le nombre de patients selon vos besoins."
      ],
      "metadata": {
        "id": "C5tNAGy3Lq3A"
      }
    },
    {
      "cell_type": "code",
      "source": [
        "import os\n",
        "import nibabel as nib\n",
        "import numpy as np\n",
        "import matplotlib.pyplot as plt\n",
        "\n",
        "def histogram_stretching(image):\n",
        "    # Étirement de l'histogramme\n",
        "    min_intensity = np.min(image)\n",
        "    max_intensity = np.max(image)\n",
        "    stretched_image = ((image - min_intensity) / (max_intensity - min_intensity)) * 255\n",
        "\n",
        "    return stretched_image.astype(np.uint8)\n",
        "\n",
        "def display_images_after_preprocessing(patients_directory, num_patients=5):\n",
        "    image_types = ['Flair', 'T1', 'T2']  # Ajoutez d'autres types si nécessaire\n",
        "\n",
        "    for patient_id in range(1, num_patients + 1):\n",
        "        for image_type in image_types:\n",
        "            # Construction des chemins d'accès aux fichiers d'images\n",
        "            image_path = os.path.join(patients_directory, f\"Patient-{patient_id}\", f\"{patient_id}-{image_type}.nii\")\n",
        "\n",
        "            # Charger l'image\n",
        "            image_data = nib.load(image_path).get_fdata()\n",
        "\n",
        "            # Appliquer l'étirement de l'histogramme\n",
        "            stretched_image = histogram_stretching(image_data)\n",
        "\n",
        "            # Afficher les résultats\n",
        "            plt.figure(figsize=(12, 4))\n",
        "            plt.subplot(1, 3, 1)\n",
        "            plt.imshow(image_data[:, :, image_data.shape[2] // 2], cmap=\"gray\")\n",
        "            plt.title(f\"Patient-{patient_id}-{image_type} (Original)\")\n",
        "\n",
        "            plt.subplot(1, 3, 2)\n",
        "            plt.imshow(stretched_image[:, :, image_data.shape[2] // 2], cmap=\"gray\")\n",
        "            plt.title(f\"Patient-{patient_id}-{image_type} (Après étirement de l'histogramme)\")\n",
        "\n",
        "            plt.subplot(1, 3, 3)\n",
        "            plt.hist(image_data.flatten(), bins=50, color='c', alpha=0.7, label='Avant étirement')\n",
        "            plt.hist(stretched_image.flatten(), bins=50, color='m', alpha=0.7, label='Après étirement')\n",
        "            plt.title(\"Histogrammes des intensités\")\n",
        "            plt.legend()\n",
        "\n",
        "            plt.show()\n",
        "\n",
        "# Adaptation de la fonction pour traiter les images de 5 patients\n",
        "patients_directory = '/content/Patients/Patients/'\n",
        "display_images_after_preprocessing(patients_directory, num_patients=5)\n"
      ],
      "metadata": {
        "id": "Xocge8sMNXie"
      },
      "execution_count": null,
      "outputs": []
    },
    {
      "cell_type": "markdown",
      "source": [
        "**Transformations logarithmiques et exponentielles**\n"
      ],
      "metadata": {
        "id": "TZwY8q0pNoRe"
      }
    },
    {
      "cell_type": "code",
      "source": [
        "import os\n",
        "import nibabel as nib\n",
        "import numpy as np\n",
        "import matplotlib.pyplot as plt\n",
        "\n",
        "def log_transform(image):\n",
        "    # Transformation logarithmique avec ajout d'une petite valeur pour éviter les valeurs infinies\n",
        "    return np.log1p(image)\n",
        "\n",
        "def exp_transform(image):\n",
        "    # Transformation exponentielle\n",
        "    return np.exp(image)\n",
        "\n",
        "def display_images_after_transformations(patients_directory, num_patients=5):\n",
        "    image_types = ['Flair', 'T1', 'T2']  # Ajoutez d'autres types si nécessaire\n",
        "\n",
        "    for patient_id in range(1, num_patients + 1):\n",
        "        for image_type in image_types:\n",
        "            # Construction des chemins d'accès aux fichiers d'images\n",
        "            image_path = os.path.join(patients_directory, f\"Patient-{patient_id}\", f\"{patient_id}-{image_type}.nii\")\n",
        "\n",
        "            # Charger l'image\n",
        "            image_data = nib.load(image_path).get_fdata()\n",
        "\n",
        "            # Ajout d'une petite valeur avant la transformation logarithmique\n",
        "            log_transformed_image = log_transform(image_data + 1e-8)\n",
        "\n",
        "            # Réajuster l'histogramme après la transformation logarithmique\n",
        "            log_transformed_image = log_transformed_image / np.max(log_transformed_image) * 255\n",
        "\n",
        "            # Appliquer la transformation exponentielle\n",
        "            exp_transformed_image = exp_transform(image_data)\n",
        "\n",
        "            # Réajuster l'histogramme après la transformation exponentielle\n",
        "            exp_transformed_image = exp_transformed_image / np.max(exp_transformed_image) * 255\n",
        "\n",
        "            # Afficher les résultats\n",
        "            plt.figure(figsize=(15, 5))\n",
        "            plt.subplot(1, 4, 1)\n",
        "            plt.imshow(image_data[:, :, image_data.shape[2] // 2], cmap=\"gray\")\n",
        "            plt.title(f\"Patient-{patient_id}-{image_type} (Original)\")\n",
        "\n",
        "            plt.subplot(1, 4, 2)\n",
        "            plt.imshow(log_transformed_image[:, :, image_data.shape[2] // 2], cmap=\"gray\")\n",
        "            plt.title(f\"Transformation Logarithmique\")\n",
        "\n",
        "            plt.subplot(1, 4, 3)\n",
        "            plt.imshow(exp_transformed_image[:, :, image_data.shape[2] // 2], cmap=\"gray\")\n",
        "            plt.title(f\"Transformation Exponentielle\")\n",
        "\n",
        "            plt.subplot(1, 4, 4)\n",
        "            plt.hist(image_data.flatten(), bins=50, color='c', alpha=0.7, label='Original')\n",
        "            plt.hist(log_transformed_image.flatten(), bins=50, color='m', alpha=0.7, label='Logarithmique')\n",
        "            plt.hist(exp_transformed_image.flatten(), bins=50, color='y', alpha=0.7, label='Exponentielle')\n",
        "            plt.title(\"Histogrammes des intensités\")\n",
        "            plt.legend()\n",
        "\n",
        "            plt.show()\n",
        "\n",
        "# Adaptation de la fonction pour traiter les images de 5 patients\n",
        "patients_directory = '/content/Patients/Patients/'\n",
        "display_images_after_transformations(patients_directory, num_patients=5)\n"
      ],
      "metadata": {
        "id": "ojcAtfddOx8M"
      },
      "execution_count": null,
      "outputs": []
    },
    {
      "cell_type": "markdown",
      "source": [
        "Égalisation d’histogramme classique"
      ],
      "metadata": {
        "id": "kaQinlGtPh29"
      }
    },
    {
      "cell_type": "code",
      "source": [
        "import os\n",
        "import nibabel as nib\n",
        "import numpy as np\n",
        "import matplotlib.pyplot as plt\n",
        "\n",
        "def histogram_equalization(image):\n",
        "    # Appliquer l'égalisation d'histogramme\n",
        "    flattened_image = image.flatten()\n",
        "    hist, bins = np.histogram(flattened_image, bins=256, range=[0, 256])\n",
        "    cdf = hist.cumsum()\n",
        "    cdf_normalized = cdf / cdf.max()\n",
        "    equalized_image = np.interp(flattened_image, bins[:-1], cdf_normalized * 255).reshape(image.shape)\n",
        "\n",
        "    return equalized_image.astype(np.uint8)\n",
        "\n",
        "def display_images_after_equalization(patients_directory, num_patients=5):\n",
        "    image_types = ['Flair', 'T1', 'T2']  # Ajoutez d'autres types si nécessaire\n",
        "\n",
        "    for patient_id in range(1, num_patients + 1):\n",
        "        for image_type in image_types:\n",
        "            # Construction des chemins d'accès aux fichiers d'images\n",
        "            image_path = os.path.join(patients_directory, f\"Patient-{patient_id}\", f\"{patient_id}-{image_type}.nii\")\n",
        "\n",
        "            # Charger l'image\n",
        "            image_data = nib.load(image_path).get_fdata()\n",
        "\n",
        "            # Appliquer l'égalisation d'histogramme\n",
        "            equalized_image = histogram_equalization(image_data)\n",
        "\n",
        "            # Afficher les résultats\n",
        "            plt.figure(figsize=(12, 4))\n",
        "            plt.subplot(1, 3, 1)\n",
        "            plt.imshow(image_data[:, :, image_data.shape[2] // 2], cmap=\"gray\")\n",
        "            plt.title(f\"Patient-{patient_id}-{image_type} (Original)\")\n",
        "\n",
        "            plt.subplot(1, 3, 2)\n",
        "            plt.imshow(equalized_image[:, :, image_data.shape[2] // 2], cmap=\"gray\")\n",
        "            plt.title(f\"Égalisation d'histogramme\")\n",
        "\n",
        "            plt.subplot(1, 3, 3)\n",
        "            plt.hist(image_data.flatten(), bins=50, color='c', alpha=0.7, label='Original')\n",
        "            plt.hist(equalized_image.flatten(), bins=50, color='m', alpha=0.7, label='Égalisé')\n",
        "            plt.title(\"Histogrammes des intensités\")\n",
        "            plt.legend()\n",
        "\n",
        "            plt.show()\n",
        "\n",
        "# Adaptation de la fonction pour traiter les images de 5 patients\n",
        "patients_directory = '/content/Patients/Patients/'\n",
        "display_images_after_equalization(patients_directory, num_patients=5)\n"
      ],
      "metadata": {
        "id": "hocqVPpqPiLR"
      },
      "execution_count": null,
      "outputs": []
    },
    {
      "cell_type": "markdown",
      "source": [
        "**Égalisation adaptative**"
      ],
      "metadata": {
        "id": "ZnWkhmjfRUdi"
      }
    },
    {
      "cell_type": "code",
      "source": [
        "pip install SimpleITK"
      ],
      "metadata": {
        "id": "NTBEsp6CUFKw"
      },
      "execution_count": null,
      "outputs": []
    },
    {
      "cell_type": "code",
      "source": [
        "import os\n",
        "import nibabel as nib\n",
        "import numpy as np\n",
        "import cv2\n",
        "import matplotlib.pyplot as plt\n",
        "\n",
        "import SimpleITK as sitk\n",
        "\n",
        "def adaptive_histogram_equalization(image_data, clip_limit=2.0, grid_size=(8, 8)):\n",
        "    # Convertir l'image en niveaux de gris si elle n'est pas déjà en niveaux de gris\n",
        "    if len(image_data.shape) == 4:\n",
        "        # Assumer que c'est une image IRM avec plusieurs canaux (par exemple, RVB)\n",
        "        # Vous devez adapter cette logique à la structure spécifique de vos données\n",
        "        image_data = np.mean(image_data, axis=-1)  # Convertir en niveaux de gris\n",
        "\n",
        "    # Normaliser l'image pour garantir qu'elle est dans la plage [0, 1]\n",
        "    image_min, image_max = np.min(image_data), np.max(image_data)\n",
        "    normalized_image = (image_data - image_min) / (image_max - image_min)\n",
        "\n",
        "    # Convertir en format SimpleITK\n",
        "    sitk_image = sitk.GetImageFromArray(normalized_image)\n",
        "\n",
        "    # Appliquer l'égalisation adaptative de l'histogramme (CLAHE) avec SimpleITK\n",
        "    clahe_filter = sitk.AdaptiveHistogramEqualizationImageFilter()\n",
        "    clahe_filter.SetAlpha(clip_limit)\n",
        "    clahe_filter.SetBeta(grid_size[0])\n",
        "    equalized_image = clahe_filter.Execute(sitk_image)\n",
        "\n",
        "    # Convertir l'image résultante en tableau numpy\n",
        "    equalized_image_np = sitk.GetArrayFromImage(equalized_image)\n",
        "\n",
        "    return equalized_image_np\n",
        "\n",
        "\n",
        "\n",
        "\n",
        "\n",
        "\n",
        "\n",
        "\n",
        "def display_images_after_adaptive_equalization(patients_directory, num_patients=5):\n",
        "    image_types = ['Flair', 'T1', 'T2']  # Ajoutez d'autres types si nécessaire\n",
        "\n",
        "    for patient_id in range(1, num_patients + 1):\n",
        "        for image_type in image_types:\n",
        "            # Construction des chemins d'accès aux fichiers d'images\n",
        "            image_path = os.path.join(patients_directory, f\"Patient-{patient_id}\", f\"{patient_id}-{image_type}.nii\")\n",
        "\n",
        "            # Charger l'image .nii\n",
        "            image_data = nib.load(image_path).get_fdata()\n",
        "\n",
        "            # Appliquer l'égalisation adaptative de l'histogramme\n",
        "            equalized_image = adaptive_histogram_equalization(image_data)\n",
        "\n",
        "            # Afficher les résultats\n",
        "            plt.figure(figsize=(12, 4))\n",
        "            plt.subplot(1, 3, 1)\n",
        "            plt.imshow(image_data[:, :, image_data.shape[2] // 2], cmap=\"gray\")\n",
        "            plt.title(f\"Patient-{patient_id}-{image_type} (Original)\")\n",
        "\n",
        "            plt.subplot(1, 3, 2)\n",
        "            plt.imshow(equalized_image[:, :, image_data.shape[2] // 2], cmap=\"gray\")\n",
        "            plt.title(f\"Égalisation adaptative de l'histogramme\")\n",
        "\n",
        "            plt.subplot(1, 3, 3)\n",
        "            plt.hist(image_data.flatten(), bins=50, color='c', alpha=0.7, label='Original')\n",
        "            plt.hist(equalized_image.flatten(), bins=50, color='m', alpha=0.7, label='Égalisé')\n",
        "            plt.title(\"Histogrammes des intensités\")\n",
        "            plt.legend()\n",
        "\n",
        "            plt.show()\n",
        "\n",
        "# Adaptation de la fonction pour traiter les images de 5 patients\n",
        "patients_directory = '/content/Patients/Patients/'\n",
        "display_images_after_adaptive_equalization(patients_directory, num_patients=5)\n"
      ],
      "metadata": {
        "id": "xb3J_auoSjcP"
      },
      "execution_count": null,
      "outputs": []
    },
    {
      "cell_type": "markdown",
      "source": [
        "**Filtres spatiaux: filtre moyen, filtre médian, filtre gaussien**"
      ],
      "metadata": {
        "id": "EzgKIyHHXfak"
      }
    },
    {
      "cell_type": "code",
      "source": [
        "pip install opencv-python\n"
      ],
      "metadata": {
        "id": "tlA3tnClX5Il"
      },
      "execution_count": null,
      "outputs": []
    },
    {
      "cell_type": "code",
      "source": [
        "import matplotlib.pyplot as plt\n",
        "import nibabel as nib\n",
        "import numpy as np\n",
        "from skimage import exposure\n",
        "from scipy.ndimage import median_filter, gaussian_filter\n",
        "\n",
        "def load_image(path):\n",
        "    return nib.load(path).get_fdata()\n",
        "\n",
        "def normalize_image(image):\n",
        "    image_min, image_max = np.min(image), np.max(image)\n",
        "    return (image - image_min) / (image_max - image_min)\n",
        "\n",
        "# Charger une image prétraitée (utilisez votre propre chemin)\n",
        "image_path = '/content/Patients/Patients/Patient-1/1-Flair.nii'\n",
        "image_data = load_image(image_path)\n",
        "\n",
        "# Normaliser l'image\n",
        "normalized_image = normalize_image(image_data)\n",
        "\n",
        "# Appliquer l'égalisation adaptative de l'histogramme (CLAHE)\n",
        "equalized_image = exposure.equalize_adapthist(normalized_image)\n",
        "\n",
        "# Fonction pour appliquer différents filtres spatiaux\n",
        "def apply_spatial_filters(image):\n",
        "    # Filtre moyen\n",
        "    mean_filtered_slices = np.mean(image, axis=-1)\n",
        "\n",
        "    # Filtre médian\n",
        "    median_filtered_slices = median_filter(image, size=3, mode='constant')\n",
        "\n",
        "    # Filtre gaussien\n",
        "    gaussian_filtered_slices = gaussian_filter(image, sigma=1)\n",
        "\n",
        "    return mean_filtered_slices, median_filtered_slices, gaussian_filtered_slices\n",
        "\n",
        "# Appliquer les filtres spatiaux\n",
        "mean_filtered_slices, median_filtered_slices, gaussian_filtered_slices = apply_spatial_filters(equalized_image)\n",
        "\n",
        "# Fonction pour afficher les coupes (slices) dans chaque dimension\n",
        "# Fonction pour afficher les coupes (slices) dans chaque dimension\n",
        "def display_slices(images, titles, rows, cols, figsize=(12, 12)):\n",
        "    fig, axes = plt.subplots(rows, cols, figsize=figsize)\n",
        "    for i in range(rows):\n",
        "        for j in range(cols):\n",
        "            if images[j].ndim == 2:  # Si l'image est en 2D\n",
        "                axes[i, j].imshow(images[j], cmap='gray')\n",
        "            else:  # Si l'image est en 3D\n",
        "                axes[i, j].imshow(images[j][:, :, images[j].shape[2] // 2], cmap='gray')\n",
        "            axes[i, j].set_title(titles[j])\n",
        "            axes[i, j].axis('off')\n",
        "    plt.tight_layout()\n",
        "    plt.show()\n",
        "\n",
        "# Afficher les coupes résultantes pour chaque filtre spatial\n",
        "titles = ['Mean Filtered', 'Median Filtered', 'Gaussian Filtered']\n",
        "display_slices([mean_filtered_slices, median_filtered_slices, gaussian_filtered_slices], titles, 3, 3)\n"
      ],
      "metadata": {
        "id": "1qhihBgDaBC7"
      },
      "execution_count": null,
      "outputs": []
    },
    {
      "cell_type": "code",
      "source": [
        "import os\n",
        "import matplotlib.pyplot as plt\n",
        "import nibabel as nib\n",
        "import numpy as np\n",
        "from skimage import exposure\n",
        "from scipy.ndimage import median_filter, gaussian_filter\n",
        "\n",
        "def load_image(path):\n",
        "    return nib.load(path).get_fdata()\n",
        "\n",
        "def normalize_image(image):\n",
        "    image_min, image_max = np.min(image), np.max(image)\n",
        "    return (image - image_min) / (image_max - image_min)\n",
        "\n",
        "def apply_spatial_filters(image):\n",
        "    # Filtre moyen\n",
        "    mean_filtered_slices = np.mean(image, axis=-1)\n",
        "\n",
        "    # Filtre médian\n",
        "    median_filtered_slices = median_filter(image, size=3, mode='constant')\n",
        "\n",
        "    # Filtre gaussien\n",
        "    gaussian_filtered_slices = gaussian_filter(image, sigma=1)\n",
        "\n",
        "    return mean_filtered_slices, median_filtered_slices, gaussian_filtered_slices\n",
        "\n",
        "def display_slices(images, titles, rows, cols, figsize=(12, 12)):\n",
        "    fig, axes = plt.subplots(rows, cols, figsize=figsize)\n",
        "    for i in range(rows):\n",
        "        for j in range(cols):\n",
        "            if images[j].ndim == 2:\n",
        "                axes[i, j].imshow(images[j], cmap='gray')\n",
        "            else:\n",
        "                axes[i, j].imshow(images[j][:, :, images[j].shape[2] // 2], cmap='gray')\n",
        "            axes[i, j].set_title(titles[j])\n",
        "            axes[i, j].axis('off')\n",
        "    plt.tight_layout()\n",
        "    plt.show()\n",
        "\n",
        "# Chemin vers le répertoire contenant les dossiers des patients\n",
        "patients_directory = '/content/Patients/Patients/'\n",
        "\n",
        "# Nombre de patients à traiter\n",
        "num_patients = 5\n",
        "\n",
        "for i in range(1, num_patients + 1):\n",
        "    patient_directory = os.path.join(patients_directory, f'Patient-{i}')\n",
        "\n",
        "    # Charger une image prétraitée (utilisez votre propre chemin)\n",
        "    image_path = os.path.join(patient_directory, f'{i}-Flair.nii')\n",
        "    if not os.path.exists(image_path):\n",
        "        continue\n",
        "\n",
        "    image_data = load_image(image_path)\n",
        "\n",
        "    # Normaliser l'image\n",
        "    normalized_image = normalize_image(image_data)\n",
        "\n",
        "    # Appliquer l'égalisation adaptative de l'histogramme (CLAHE)\n",
        "    equalized_image = exposure.equalize_adapthist(normalized_image)\n",
        "\n",
        "    # Appliquer les filtres spatiaux\n",
        "    mean_filtered_slices, median_filtered_slices, gaussian_filtered_slices = apply_spatial_filters(equalized_image)\n",
        "\n",
        "    # Afficher les coupes résultantes pour chaque filtre spatial\n",
        "    titles = ['Mean Filtered', 'Median Filtered', 'Gaussian Filtered']\n",
        "    display_slices([mean_filtered_slices, median_filtered_slices, gaussian_filtered_slices], titles, 3, 3)\n"
      ],
      "metadata": {
        "id": "N39LqFYyb2c3"
      },
      "execution_count": null,
      "outputs": []
    },
    {
      "cell_type": "markdown",
      "source": [
        "**– Techniques non-linéaires: filtrage bilatéral**"
      ],
      "metadata": {
        "id": "Jlv1gGgrke4e"
      }
    },
    {
      "cell_type": "code",
      "source": [
        "import numpy as np\n",
        "import nibabel as nib\n",
        "import matplotlib.pyplot as plt\n",
        "from skimage import img_as_ubyte\n",
        "from skimage.restoration import denoise_bilateral\n",
        "from skimage.transform import resize\n",
        "\n",
        "def apply_non_linear_filter(image):\n",
        "    # Initialiser une liste pour stocker les coupes filtrées\n",
        "    filtered_slices = []\n",
        "\n",
        "    # Normaliser l'image entre 0 et 1\n",
        "    normalized_image = (image - np.min(image)) / (np.max(image) - np.min(image))\n",
        "\n",
        "    # Convertir en valeurs entières entre 0 et 255\n",
        "    uint_image = img_as_ubyte(normalized_image)\n",
        "\n",
        "    # Appliquer le filtre bilatéral à chaque coupe individuellement\n",
        "    for i in range(uint_image.shape[2]):\n",
        "        slice_filtered = denoise_bilateral(uint_image[:, :, i], multichannel=False)\n",
        "        filtered_slices.append(slice_filtered)\n",
        "\n",
        "    # Empiler les coupes filtrées pour reconstituer l'image 3D\n",
        "    bilateral_filtered = np.stack(filtered_slices, axis=2)\n",
        "\n",
        "    return bilateral_filtered\n",
        "\n",
        "\n",
        "def display_images_after_non_linear_filter(image, filter_name, patient_name, original_shape):\n",
        "    # Afficher l'image résultante après le filtre bilatéral\n",
        "    fig, axes = plt.subplots(1, 2, figsize=(12, 5))\n",
        "    fig.suptitle(f'{patient_name} - {filter_name} - Original Shape: {original_shape}', fontsize=16)\n",
        "\n",
        "    # Afficher l'image originale\n",
        "    axes[0].imshow(image[:, :, 0], cmap='gray')  # Afficher la première coupe\n",
        "    axes[0].set_title('Original Image')\n",
        "    axes[0].axis('off')\n",
        "\n",
        "    # Afficher une coupe intermédiaire de l'image résultante\n",
        "    mid_slice = image.shape[2] // 2\n",
        "    axes[1].imshow(image[:, :, mid_slice], cmap='gray')\n",
        "    axes[1].set_title(f'{filter_name} Filtered - Slice {mid_slice}')\n",
        "    axes[1].axis('off')\n",
        "\n",
        "    plt.show()\n",
        "\n",
        "\n",
        "# Chemin vers le dossier des patients\n",
        "patients_directory = '/content/Patients/Patients/'\n",
        "\n",
        "# Nombre de patients à traiter\n",
        "num_patients = 5\n",
        "\n",
        "for i in range(1, num_patients + 1):\n",
        "    patient_name = f'Patient-{i}'\n",
        "\n",
        "    # Charger l'image Flair du patient\n",
        "    flair_path = f'{patients_directory}{patient_name}/{i}-Flair.nii'\n",
        "    flair_data = nib.load(flair_path).get_fdata()\n",
        "\n",
        "    # Récupérer la forme de l'image d'origine\n",
        "    original_shape = flair_data.shape\n",
        "\n",
        "    # Appliquer le filtre bilatéral\n",
        "    bilateral_filtered = apply_non_linear_filter(flair_data)\n",
        "\n",
        "    # Afficher l'image résultante après le filtre bilatéral\n",
        "    display_images_after_non_linear_filter(bilateral_filtered, 'Bilateral Filter', patient_name, original_shape)\n"
      ],
      "metadata": {
        "id": "jEOzhQLXkwV9"
      },
      "execution_count": null,
      "outputs": []
    },
    {
      "cell_type": "markdown",
      "source": [],
      "metadata": {
        "id": "48g-5rvjxULO"
      }
    },
    {
      "cell_type": "code",
      "source": [
        "import matplotlib.pyplot as plt\n",
        "import numpy as np\n",
        "\n",
        "def plot_histogram(image, title):\n",
        "    plt.figure(figsize=(8, 4))\n",
        "    plt.hist(image.flatten(), bins=256, range=(0, 256), density=True, color='blue', alpha=0.7)\n",
        "    plt.title(title)\n",
        "    plt.xlabel('Pixel Value')\n",
        "    plt.ylabel('Frequency')\n",
        "    plt.show()\n",
        "\n",
        "# Chemin vers le dossier des patients\n",
        "patients_directory = '/content/Patients/Patients/'\n",
        "\n",
        "# Nombre de patients à traiter\n",
        "num_patients = 5\n",
        "\n",
        "for i in range(1, num_patients + 1):\n",
        "    patient_name = f'Patient-{i}'\n",
        "\n",
        "    # Charger l'image FLAIR du patient\n",
        "    flair_path = f'{patients_directory}{patient_name}/{i}-Flair.nii'\n",
        "    flair_data = nib.load(flair_path).get_fdata()\n",
        "\n",
        "    # Afficher l'histogramme de l'image FLAIR du patient\n",
        "    plot_histogram(flair_data, f'Histogram of FLAIR Image - {patient_name}')\n"
      ],
      "metadata": {
        "id": "AgBWcrcwxTlQ"
      },
      "execution_count": null,
      "outputs": []
    },
    {
      "cell_type": "markdown",
      "source": [
        "**Modélisation statistique de l’histogramme**"
      ],
      "metadata": {
        "id": "VCpXakSHyJhh"
      }
    },
    {
      "cell_type": "code",
      "source": [
        "import matplotlib.pyplot as plt\n",
        "import numpy as np\n",
        "from scipy.stats import norm\n",
        "from scipy.optimize import curve_fit\n",
        "import nibabel as nib\n",
        "\n",
        "def gaussian(x, mean, std, amplitude):\n",
        "    return amplitude * norm.pdf(x, mean, std)\n",
        "\n",
        "def fit_histogram(image, patient_name):\n",
        "    flat_image = image.flatten()\n",
        "    hist, bin_edges = np.histogram(flat_image, bins=256, range=(0, 256), density=True)\n",
        "\n",
        "    popt, _ = curve_fit(gaussian, bin_edges[:-1], hist, p0=[np.mean(flat_image), np.std(flat_image), 1])\n",
        "\n",
        "    plt.figure(figsize=(8, 4))\n",
        "    plt.hist(flat_image, bins=256, range=(0, 256), density=True, color='blue', alpha=0.7, label='Histogram')\n",
        "    plt.plot(bin_edges[:-1], gaussian(bin_edges[:-1], *popt), 'r--', label='Gaussian Fit')\n",
        "    plt.title(f'Histogram and Gaussian Fit - {patient_name}')\n",
        "    plt.xlabel('Pixel Value')\n",
        "    plt.ylabel('Frequency')\n",
        "    plt.legend()\n",
        "    plt.show()\n",
        "\n",
        "# Chemin vers le dossier des patients\n",
        "patients_directory = '/content/Patients/Patients/'\n",
        "\n",
        "# Nombre de patients à traiter\n",
        "num_patients = 5\n",
        "\n",
        "for i in range(1, num_patients + 1):\n",
        "    patient_name = f'Patient-{i}'\n",
        "\n",
        "    # Charger l'image FLAIR du patient\n",
        "    flair_path = f'{patients_directory}{patient_name}/{i}-Flair.nii'\n",
        "    flair_data = nib.load(flair_path).get_fdata()\n",
        "\n",
        "    # Ajuster le modèle gaussien à l'histogramme\n",
        "    fit_histogram(flair_data, patient_name)\n"
      ],
      "metadata": {
        "id": "vIJ5pkrUyI9m"
      },
      "execution_count": null,
      "outputs": []
    },
    {
      "cell_type": "markdown",
      "source": [
        "**Optimisation des seuils pour le contraste et la luminosité**"
      ],
      "metadata": {
        "id": "3suq1YAHzbar"
      }
    },
    {
      "cell_type": "code",
      "source": [
        "import numpy as np\n",
        "import matplotlib.pyplot as plt\n",
        "from scipy.optimize import minimize_scalar\n",
        "import nibabel as nib\n",
        "\n",
        "def adjust_contrast_brightness(image, contrast_factor, brightness_factor):\n",
        "    adjusted_image = contrast_factor * image + brightness_factor\n",
        "    return np.clip(adjusted_image, 0, 255)\n",
        "\n",
        "def objective_function(contrast_factor, brightness_factor, image):\n",
        "    adjusted_image = adjust_contrast_brightness(image, contrast_factor, brightness_factor)\n",
        "    mean_pixel_value = np.mean(adjusted_image)\n",
        "    return -mean_pixel_value\n",
        "\n",
        "# Chemin vers le dossier des patients\n",
        "patients_directory = '/content/Patients/Patients/'\n",
        "\n",
        "# Nombre de patients à traiter\n",
        "num_patients = 5\n",
        "\n",
        "# Paramètres initiaux\n",
        "initial_contrast_factor = 1.0\n",
        "initial_brightness_factor = 0.0\n",
        "\n",
        "for i in range(1, num_patients + 1):\n",
        "    patient_name = f'Patient-{i}'\n",
        "\n",
        "    # Charger l'image FLAIR du patient\n",
        "    flair_path = f'{patients_directory}{patient_name}/{i}-Flair.nii'\n",
        "    flair_data = nib.load(flair_path).get_fdata()\n",
        "\n",
        "    # Optimisation des seuils\n",
        "    result_contrast = minimize_scalar(\n",
        "        objective_function,\n",
        "        args=(initial_brightness_factor, flair_data,),\n",
        "        bounds=(0.5, 1.5),\n",
        "        method='bounded'\n",
        "    )\n",
        "    optimal_contrast_factor = result_contrast.x\n",
        "\n",
        "    result_brightness = minimize_scalar(\n",
        "        objective_function,\n",
        "        args=(optimal_contrast_factor, flair_data,),\n",
        "        bounds=(-50, 50),\n",
        "        method='bounded'\n",
        "    )\n",
        "    optimal_brightness_factor = result_brightness.x\n",
        "\n",
        "    # Ajuster l'image avec les seuils optimaux\n",
        "    adjusted_image = adjust_contrast_brightness(flair_data, optimal_contrast_factor, optimal_brightness_factor)\n",
        "\n",
        "    # Afficher les résultats\n",
        "    plt.figure(figsize=(10, 5))\n",
        "\n",
        "    plt.subplot(1, 2, 1)\n",
        "    plt.imshow(flair_data[:, :, 10], cmap='gray', origin='lower')\n",
        "    plt.title(f'Patient {i} - Image FLAIR originale')\n",
        "    plt.axis('off')\n",
        "\n",
        "    plt.subplot(1, 2, 2)\n",
        "    plt.imshow(adjusted_image[:, :, 10], cmap='gray', origin='lower')\n",
        "    plt.title(f'Patient {i} - Image FLAIR ajustée (Contraste={optimal_contrast_factor:.2f}, Luminosité={optimal_brightness_factor:.2f})')\n",
        "    plt.axis('off')\n",
        "\n",
        "    plt.show()\n"
      ],
      "metadata": {
        "id": "Lbh9j6sZzbDq"
      },
      "execution_count": null,
      "outputs": []
    },
    {
      "cell_type": "markdown",
      "source": [
        "**Segmentation**"
      ],
      "metadata": {
        "id": "lO5zOFeP02R0"
      }
    },
    {
      "cell_type": "markdown",
      "source": [
        "ce script utilise la segmentation de la région (basée sur la couleur et la texture) et la segmentation des contours (basée sur les contours détectés par le filtre de Sobel). Vous pouvez ajouter d'autres techniques de segmentation disponibles dans scikit-image en fonction de vos besoins. N'oubliez pas d'ajuster les paramètres des méthodes de segmentation en fonction de vos images spécifiques."
      ],
      "metadata": {
        "id": "5m0YzsXc0jlz"
      }
    },
    {
      "cell_type": "code",
      "source": [
        "import numpy as np\n",
        "import matplotlib.pyplot as plt\n",
        "from skimage import io, color\n",
        "from skimage.filters import sobel\n",
        "from skimage.segmentation import felzenszwalb, mark_boundaries\n",
        "from skimage.measure import regionprops\n",
        "from skimage.color import label2rgb\n",
        "import nibabel as nib\n",
        "\n",
        "def segment_region(image):\n",
        "    segments = felzenszwalb(image, scale=100, sigma=0.5, min_size=50)\n",
        "    return segments\n",
        "\n",
        "def segment_contours(image):\n",
        "    # Convertir l'image en niveaux de gris si elle ne l'est pas déjà\n",
        "    if image.shape[-1] == 3:\n",
        "        image_gray = color.rgb2gray(image)\n",
        "    else:\n",
        "        image_gray = image\n",
        "\n",
        "    # Appliquer le filtre de Sobel pour détecter les contours\n",
        "    edges = sobel(image_gray)\n",
        "\n",
        "    # Utiliser les contours comme base pour la segmentation\n",
        "    segments = felzenszwalb(edges, scale=100, sigma=0.5, min_size=50)\n",
        "    return segments\n",
        "\n",
        "# Chemin vers le dossier des patients\n",
        "patients_directory = '/content/Patients/Patients/'\n",
        "\n",
        "# Nombre de patients à traiter\n",
        "num_patients = 5\n",
        "\n",
        "for i in range(1, num_patients + 1):\n",
        "    patient_name = f'Patient-{i}'\n",
        "\n",
        "    # Charger l'image FLAIR du patient\n",
        "    flair_path = f'{patients_directory}{patient_name}/{i}-Flair.nii'\n",
        "    flair_data = nib.load(flair_path).get_fdata()\n",
        "\n",
        "    # Appliquer différentes techniques de segmentation\n",
        "    segmented_region = segment_region(flair_data)\n",
        "    segmented_contours = segment_contours(flair_data)\n",
        "\n",
        "    # Afficher les résultats\n",
        "    plt.figure(figsize=(12, 4))\n",
        "\n",
        "    plt.subplot(1, 3, 1)\n",
        "    plt.imshow(flair_data[:, :, 10], cmap='gray', origin='lower')\n",
        "    plt.title(f'Patient {i} - Image FLAIR originale')\n",
        "    plt.axis('off')\n",
        "\n",
        "    plt.subplot(1, 3, 2)\n",
        "    plt.imshow(segmented_region, cmap='viridis', origin='lower')\n",
        "    plt.title(f'Segmentation de la région')\n",
        "    plt.axis('off')\n",
        "\n",
        "    plt.subplot(1, 3, 3)\n",
        "    plt.imshow(mark_boundaries(flair_data[:, :, 10], segmented_contours), cmap='gray', origin='lower')\n",
        "    plt.title(f'Segmentation des contours')\n",
        "    plt.axis('off')\n",
        "\n",
        "    plt.show()\n"
      ],
      "metadata": {
        "id": "FQaW4zfS0j4P"
      },
      "execution_count": null,
      "outputs": []
    },
    {
      "cell_type": "markdown",
      "source": [
        "**Segmentation basée sur l’intensité (Thresholding)**"
      ],
      "metadata": {
        "id": "FC6dG1PS08Rn"
      }
    },
    {
      "cell_type": "code",
      "source": [
        "import numpy as np\n",
        "import matplotlib.pyplot as plt\n",
        "from skimage import io, color\n",
        "from skimage.filters import threshold_otsu\n",
        "import nibabel as nib\n",
        "\n",
        "def intensity_based_segmentation(image, threshold):\n",
        "    # Binariser l'image en fonction du seuil\n",
        "    binary_image = image > threshold\n",
        "    return binary_image\n",
        "\n",
        "# Chemin vers le dossier des patients\n",
        "patients_directory = '/content/Patients/Patients/'\n",
        "\n",
        "# Nombre de patients à traiter\n",
        "num_patients = 5\n",
        "\n",
        "for i in range(1, num_patients + 1):\n",
        "    patient_name = f'Patient-{i}'\n",
        "\n",
        "    # Charger l'image FLAIR du patient\n",
        "    flair_path = f'{patients_directory}{patient_name}/{i}-Flair.nii'\n",
        "    flair_data = nib.load(flair_path).get_fdata()\n",
        "\n",
        "    # Appliquer la segmentation basée sur l'intensité (Thresholding)\n",
        "    threshold_value = threshold_otsu(flair_data)\n",
        "    segmented_image = intensity_based_segmentation(flair_data, threshold_value)\n",
        "\n",
        "    # Afficher les résultats\n",
        "    plt.figure(figsize=(12, 4))\n",
        "\n",
        "    plt.subplot(1, 3, 1)\n",
        "    plt.imshow(flair_data[:, :, 10], cmap='gray', origin='lower')\n",
        "    plt.title(f'Patient {i} - Image FLAIR originale')\n",
        "    plt.axis('off')\n",
        "\n",
        "    plt.subplot(1, 3, 2)\n",
        "    plt.imshow(segmented_image[:, :, 10], cmap='gray', origin='lower')\n",
        "    plt.title(f'Segmentation basée sur l\\'intensité (Thresholding)')\n",
        "    plt.axis('off')\n",
        "\n",
        "    plt.subplot(1, 3, 3)\n",
        "    plt.hist(flair_data[:, :, 10].ravel(), bins=100, color='blue', alpha=0.7, rwidth=0.85)\n",
        "    plt.axvline(threshold_value, color='red', linestyle='dashed', linewidth=2, label='Seuil')\n",
        "    plt.title('Histogramme de l\\'image avec le seuil')\n",
        "    plt.legend()\n",
        "\n",
        "    plt.show()\n"
      ],
      "metadata": {
        "id": "bsD1cQNz1M8r"
      },
      "execution_count": null,
      "outputs": []
    },
    {
      "cell_type": "markdown",
      "source": [
        "**Segmentation par croissance de région (Region Growing)**"
      ],
      "metadata": {
        "id": "MUDN2FO11cuM"
      }
    },
    {
      "cell_type": "code",
      "source": [
        "import numpy as np\n",
        "import matplotlib.pyplot as plt\n",
        "from skimage import io, color, segmentation, measure\n",
        "import nibabel as nib\n",
        "\n",
        "def region_growing_segmentation(image, seed):\n",
        "    # Appliquer la segmentation par croissance de région\n",
        "    segmented = segmentation.flood(image, seed, tolerance=0.2)\n",
        "\n",
        "    return segmented\n",
        "\n",
        "# Chemin vers le dossier des patients\n",
        "patients_directory = '/content/Patients/Patients/'\n",
        "\n",
        "# Nombre de patients à traiter\n",
        "num_patients = 5\n",
        "\n",
        "for i in range(1, num_patients + 1):\n",
        "    patient_name = f'Patient-{i}'\n",
        "\n",
        "    # Charger l'image FLAIR du patient\n",
        "    flair_path = f'{patients_directory}{patient_name}/{i}-Flair.nii'\n",
        "    flair_data = nib.load(flair_path).get_fdata()\n",
        "\n",
        "    # Sélectionner un point de départ (seed) pour la croissance de région (par exemple, au centre de l'image)\n",
        "    seed_point = (flair_data.shape[0] // 2, flair_data.shape[1] // 2, flair_data.shape[2] // 2)\n",
        "\n",
        "    # Appliquer la segmentation par croissance de région\n",
        "    segmented_image = region_growing_segmentation(flair_data, seed_point)\n",
        "\n",
        "    # Afficher les résultats\n",
        "    plt.figure(figsize=(12, 4))\n",
        "\n",
        "    plt.subplot(1, 2, 1)\n",
        "    plt.imshow(flair_data[:, :, 10], cmap='gray', origin='lower')\n",
        "    plt.plot(seed_point[1], seed_point[0], 'ro', markersize=10, label='Point de départ')\n",
        "    plt.title(f'Patient {i} - Image FLAIR originale')\n",
        "    plt.axis('off')\n",
        "\n",
        "    plt.subplot(1, 2, 2)\n",
        "    plt.imshow(segmented_image[:, :, 10], cmap='gray', origin='lower')\n",
        "    plt.title('Segmentation par croissance de région')\n",
        "    plt.axis('off')\n",
        "\n",
        "    plt.show()\n"
      ],
      "metadata": {
        "id": "6X4sHuQy2DOc"
      },
      "execution_count": null,
      "outputs": []
    },
    {
      "cell_type": "markdown",
      "source": [
        "**– Segmentation par Clustering**"
      ],
      "metadata": {
        "id": "gverB9yt2f7a"
      }
    },
    {
      "cell_type": "code",
      "source": [
        "import os\n",
        "\n",
        "# Chemin vers le dossier des patients\n",
        "patients_directory = '/content/Patients/Patients/'\n",
        "\n",
        "# Nombre de patients à traiter\n",
        "num_patients = 5\n",
        "\n",
        "# Paramètres du k-means\n",
        "num_clusters = 3  # À ajuster en fonction de votre besoin\n",
        "max_iterations = 100\n",
        "\n",
        "for i in range(1, num_patients + 1):\n",
        "    patient_name = f'Patient-{i}'\n",
        "\n",
        "    # Charger l'image FLAIR du patient\n",
        "    flair_path = os.path.join(patients_directory, patient_name, f'{i}-Flair.nii')\n",
        "    flair_data = nib.load(flair_path).get_fdata()\n",
        "\n",
        "    # Prétraitement (normalisation, etc.)\n",
        "    # À compléter en fonction de vos besoins\n",
        "\n",
        "    # Appliquer le k-means\n",
        "    flair_reshaped = flair_data.reshape((-1, 1))  # Aplatir l'image en un vecteur\n",
        "    kmeans = KMeans(n_clusters=num_clusters, max_iter=max_iterations, random_state=42)\n",
        "    kmeans.fit(flair_reshaped)\n",
        "\n",
        "    # Obtenir les labels des clusters\n",
        "    labels = kmeans.labels_\n",
        "\n",
        "    # Remettre les labels dans la forme de l'image originale\n",
        "    segmented_image = labels.reshape(flair_data.shape)\n",
        "\n",
        "    # Afficher les résultats\n",
        "    plt.figure(figsize=(12, 4))\n",
        "\n",
        "    plt.subplot(1, 2, 1)\n",
        "    plt.imshow(flair_data[:, :, 10], cmap='gray', origin='lower')\n",
        "    plt.title(f'Image FLAIR - {patient_name}')\n",
        "    plt.axis('off')\n",
        "\n",
        "    plt.subplot(1, 2, 2)\n",
        "    plt.imshow(segmented_image[:, :, 10], cmap='viridis', origin='lower')  # Ajuster la colormap selon vos besoins\n",
        "    plt.title(f'Segmentation par clustering (k-means) - {patient_name}')\n",
        "    plt.axis('off')\n",
        "\n",
        "    plt.show()\n"
      ],
      "metadata": {
        "id": "RX0hNOvK2gMB"
      },
      "execution_count": null,
      "outputs": []
    },
    {
      "cell_type": "markdown",
      "source": [
        "**Segmentation basée sur la couleur**"
      ],
      "metadata": {
        "id": "AfZLyFNU3JUN"
      }
    },
    {
      "cell_type": "code",
      "source": [
        "import os\n",
        "import cv2\n",
        "import numpy as np\n",
        "from sklearn.cluster import KMeans\n",
        "import nibabel as nib\n",
        "import matplotlib.pyplot as plt\n",
        "\n",
        "# Chemin vers le dossier des patients\n",
        "patients_directory = '/content/Patients/Patients/'\n",
        "\n",
        "# Nombre de patients à traiter\n",
        "num_patients = 5\n",
        "\n",
        "# Paramètres du k-means\n",
        "num_clusters = 3  # À ajuster en fonction de votre besoin\n",
        "max_iterations = 100\n",
        "\n",
        "def apply_color_segmentation(image, num_clusters, max_iterations):\n",
        "    # Ajuster l'image aux dimensions requises par KMeans\n",
        "    reshaped_image = image.reshape((-1, 3))  # Pour une image RGB\n",
        "\n",
        "    # Appliquer le k-means\n",
        "    kmeans = KMeans(n_clusters=num_clusters, max_iter=max_iterations, random_state=42)\n",
        "    kmeans.fit(reshaped_image)\n",
        "\n",
        "    # Obtenir les labels des clusters\n",
        "    labels = kmeans.labels_\n",
        "\n",
        "    # Remettre les labels dans la forme de l'image originale\n",
        "    segmented_image = labels.reshape(image.shape[:2])\n",
        "\n",
        "    return segmented_image\n",
        "\n",
        "for i in range(1, num_patients + 1):\n",
        "    patient_name = f'Patient-{i}'\n",
        "\n",
        "    # Charger l'image IRM du patient\n",
        "    flair_path = os.path.join(patients_directory, patient_name, f'{i}-Flair.nii')\n",
        "    flair_data = nib.load(flair_path).get_fdata()\n",
        "\n",
        "    # Sélectionner une coupe particulière (ajuster selon vos besoins)\n",
        "    slice_index = 10\n",
        "    flair_slice = flair_data[:, :, slice_index]\n",
        "\n",
        "    # Normaliser l'image entre 0 et 255 (car KMeans prend des valeurs entre 0 et 255)\n",
        "    normalized_slice = cv2.normalize(flair_slice, None, 0, 255, cv2.NORM_MINMAX)\n",
        "\n",
        "    # Convertir l'image en RGB pour la segmentation basée sur la couleur\n",
        "    colored_slice = cv2.cvtColor(np.uint8(normalized_slice), cv2.COLOR_GRAY2RGB)\n",
        "\n",
        "    # Appliquer la segmentation basée sur la couleur\n",
        "    segmented_image = apply_color_segmentation(colored_slice, num_clusters, max_iterations)\n",
        "\n",
        "    # Afficher les résultats\n",
        "    plt.figure(figsize=(12, 4))\n",
        "\n",
        "    plt.subplot(1, 2, 1)\n",
        "    plt.imshow(normalized_slice, cmap='gray', origin='lower')\n",
        "    plt.title(f'Image FLAIR - {patient_name}')\n",
        "    plt.axis('off')\n",
        "\n",
        "    plt.subplot(1, 2, 2)\n",
        "    plt.imshow(segmented_image, cmap='viridis', origin='lower')  # Ajuster la colormap selon vos besoins\n",
        "    plt.title(f'Segmentation basée sur la couleur - {patient_name}')\n",
        "    plt.axis('off')\n",
        "\n",
        "    plt.show()\n"
      ],
      "metadata": {
        "id": "kHQ57lqr3Jq6"
      },
      "execution_count": null,
      "outputs": []
    },
    {
      "cell_type": "markdown",
      "source": [],
      "metadata": {
        "id": "UYl35WG23jFc"
      }
    },
    {
      "cell_type": "code",
      "source": [
        "from sklearn.metrics import accuracy_score, jaccard_score, precision_score, recall_score, f1_score, confusion_matrix\n",
        "import numpy as np\n",
        "\n",
        "# Fonction pour calculer les métriques\n",
        "def calculate_metrics(segmented_mask, ground_truth):\n",
        "    # Aplatir les masques pour les comparer pixel par pixel\n",
        "    segmented_flatten = segmented_mask.flatten()\n",
        "    ground_truth_flatten = ground_truth.flatten()\n",
        "\n",
        "    # Calcul des métriques\n",
        "    accuracy = accuracy_score(ground_truth_flatten, segmented_flatten)\n",
        "    jaccard = jaccard_score(ground_truth_flatten, segmented_flatten)\n",
        "    precision = precision_score(ground_truth_flatten, segmented_flatten)\n",
        "    recall = recall_score(ground_truth_flatten, segmented_flatten)\n",
        "    f1 = f1_score(ground_truth_flatten, segmented_flatten)\n",
        "\n",
        "    # Matrice de confusion\n",
        "    confusion = confusion_matrix(ground_truth_flatten, segmented_flatten)\n",
        "\n",
        "    return {\n",
        "        'Accuracy': accuracy,\n",
        "        'Jaccard Index': jaccard,\n",
        "        'Precision': precision,\n",
        "        'Recall': recall,\n",
        "        'F1 Score': f1,\n",
        "        'Confusion Matrix': confusion\n",
        "    }\n",
        "\n",
        "# Exemple d'utilisation\n",
        "# Supposons que vous ayez vos masques segmentés et de vérité terrain\n",
        "# Remplacez ces exemples par vos propres données\n",
        "segmented_mask = np.random.randint(2, size=(256, 256))  # Exemple de masque segmenté binaire\n",
        "ground_truth = np.random.randint(2, size=(256, 256))  # Exemple de vérité terrain binaire\n",
        "\n",
        "# Calcul des métriques\n",
        "metrics = calculate_metrics(segmented_mask, ground_truth)\n",
        "\n",
        "# Affichage des résultats\n",
        "for metric, value in metrics.items():\n",
        "    print(f'{metric}: {value}')\n"
      ],
      "metadata": {
        "id": "C7R7-lhc3iwX"
      },
      "execution_count": null,
      "outputs": []
    },
    {
      "cell_type": "code",
      "source": [
        "from sklearn.metrics import accuracy_score, jaccard_score, recall_score, precision_score\n",
        "from skimage.metrics import hausdorff_distance\n",
        "\n",
        "def calculate_metrics(segmented_mask, ground_truth):\n",
        "    # Flatten les masques pour faciliter le calcul des métriques\n",
        "    flat_segmented = segmented_mask.flatten()\n",
        "    flat_ground_truth = ground_truth.flatten()\n",
        "\n",
        "    # Accuracy\n",
        "    accuracy = accuracy_score(flat_ground_truth, flat_segmented)\n",
        "\n",
        "    # Jaccard Index (IoU)\n",
        "    jaccard_index = jaccard_score(flat_ground_truth, flat_segmented)\n",
        "\n",
        "    # Dice Coefficient\n",
        "    dice_coefficient = 2 * np.sum(flat_segmented * flat_ground_truth) / (np.sum(flat_segmented) + np.sum(flat_ground_truth))\n",
        "\n",
        "    # Sensibilité (Rappel)\n",
        "    sensitivity = recall_score(flat_ground_truth, flat_segmented)\n",
        "\n",
        "    # Précision\n",
        "    precision = precision_score(flat_ground_truth, flat_segmented)\n",
        "\n",
        "    # Spécificité\n",
        "    specificity = accuracy_score(flat_ground_truth, flat_segmented, normalize=True, sample_weight=None)\n",
        "\n",
        "    # Hausdorff Distance\n",
        "    hausdorff_dist = hausdorff_distance(flat_ground_truth, flat_segmented)\n",
        "\n",
        "    return {\n",
        "        'Accuracy': accuracy,\n",
        "        'Jaccard Index (IoU)': jaccard_index,\n",
        "        'Dice Coefficient': dice_coefficient,\n",
        "        'Sensitivity (Recall)': sensitivity,\n",
        "        'Precision': precision,\n",
        "        'Specificity': specificity,\n",
        "        'Hausdorff Distance': hausdorff_dist\n",
        "    }\n",
        "\n",
        "# Exemple d'utilisation\n",
        "# Supposons que 'segmented_mask' est votre masque segmenté et 'ground_truth' est le masque de vérité terrain\n",
        "metrics = calculate_metrics(segmented_mask, ground_truth)\n",
        "\n",
        "# Afficher les résultats\n",
        "for metric, value in metrics.items():\n",
        "    print(f'{metric}: {value}')\n"
      ],
      "metadata": {
        "id": "nAWtCF7A5Qf0"
      },
      "execution_count": null,
      "outputs": []
    }
  ]
}